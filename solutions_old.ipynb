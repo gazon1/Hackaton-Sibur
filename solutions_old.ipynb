{
 "cells": [
  {
   "cell_type": "code",
   "execution_count": 2,
   "metadata": {},
   "outputs": [
    {
     "name": "stderr",
     "output_type": "stream",
     "text": [
      "/usr/local/anaconda3/lib/python3.5/site-packages/statsmodels/compat/pandas.py:56: FutureWarning: The pandas.core.datetools module is deprecated and will be removed in a future version. Please use the pandas.tseries module instead.\n",
      "  from pandas.core import datetools\n",
      "/usr/local/anaconda3/lib/python3.5/site-packages/sklearn/cross_validation.py:41: DeprecationWarning: This module was deprecated in version 0.18 in favor of the model_selection module into which all the refactored classes and functions are moved. Also note that the interface of the new CV iterators are different from that of this module. This module will be removed in 0.20.\n",
      "  \"This module will be removed in 0.20.\", DeprecationWarning)\n"
     ]
    }
   ],
   "source": [
    "# imports\n",
    "import math\n",
    "import pandas as pd\n",
    "pd.set_option('display.max_rows', 20)\n",
    "pd.set_option('display.max_columns', 20)\n",
    "\n",
    "import numpy as np\n",
    "import gc\n",
    "\n",
    "#import catboost ## thanks to yandex ! :) \n",
    "from sklearn.linear_model import LinearRegression\n",
    "from sklearn.metrics import mean_squared_error\n",
    "#from tqdm import tqdm_notebook\n",
    "\n",
    "import seaborn as sns\n",
    "import matplotlib.pyplot as plt\n",
    "%matplotlib inline \n",
    "import statsmodels.api as sm\n",
    "from statsmodels.iolib.table import SimpleTable\n",
    "# info about itertools.product: \n",
    "# https://pythonworld.ru/moduli/modul-itertools.html\n",
    "# https://docs.python.org/2/library/itertools.html\n",
    "from itertools import product\n",
    "from xgboost import XGBClassifier"
   ]
  },
  {
   "cell_type": "code",
   "execution_count": 2,
   "metadata": {
    "collapsed": true
   },
   "outputs": [],
   "source": [
    "def exponential_smoothing(series, alpha):\n",
    "    result = [series[0]] # first value is same as series\n",
    "    for n in range(1, len(series)):\n",
    "        result.append(alpha * series[n] + (1 - alpha) * result[n-1])\n",
    "    return result"
   ]
  },
  {
   "cell_type": "code",
   "execution_count": 3,
   "metadata": {
    "collapsed": true
   },
   "outputs": [],
   "source": [
    "def cut_eff(x):\n",
    "    if(x < 12000 or x > 20000):\n",
    "        return 17000\n",
    "    else:\n",
    "        return x\n",
    "    \n",
    "def cut_qual(x):\n",
    "    if(x > 3):\n",
    "        return 2\n",
    "    else:\n",
    "        return x\n",
    "    \n",
    "def cut_energy(x):\n",
    "    if(x < 15 or x > 30):\n",
    "        return 23\n",
    "    else:\n",
    "        return x"
   ]
  },
  {
   "cell_type": "markdown",
   "metadata": {},
   "source": [
    "# Работа с данными"
   ]
  },
  {
   "cell_type": "markdown",
   "metadata": {},
   "source": [
    "Объеденим данные по месяцам:"
   ]
  },
  {
   "cell_type": "code",
   "execution_count": 4,
   "metadata": {},
   "outputs": [
    {
     "data": {
      "text/html": [
       "<div>\n",
       "<style>\n",
       "    .dataframe thead tr:only-child th {\n",
       "        text-align: right;\n",
       "    }\n",
       "\n",
       "    .dataframe thead th {\n",
       "        text-align: left;\n",
       "    }\n",
       "\n",
       "    .dataframe tbody tr th {\n",
       "        vertical-align: top;\n",
       "    }\n",
       "</style>\n",
       "<table border=\"1\" class=\"dataframe\">\n",
       "  <thead>\n",
       "    <tr style=\"text-align: right;\">\n",
       "      <th></th>\n",
       "      <th>tag</th>\n",
       "      <th>timestamp</th>\n",
       "      <th>value</th>\n",
       "      <th>quality</th>\n",
       "    </tr>\n",
       "  </thead>\n",
       "  <tbody>\n",
       "    <tr>\n",
       "      <th>0</th>\n",
       "      <td>Efficiency</td>\n",
       "      <td>01.10.2016 0:00</td>\n",
       "      <td>16137.70</td>\n",
       "      <td>Good</td>\n",
       "    </tr>\n",
       "    <tr>\n",
       "      <th>1</th>\n",
       "      <td>Efficiency</td>\n",
       "      <td>01.10.2016 0:00</td>\n",
       "      <td>16060.55</td>\n",
       "      <td>Good</td>\n",
       "    </tr>\n",
       "  </tbody>\n",
       "</table>\n",
       "</div>"
      ],
      "text/plain": [
       "          tag        timestamp     value quality\n",
       "0  Efficiency  01.10.2016 0:00  16137.70    Good\n",
       "1  Efficiency  01.10.2016 0:00  16060.55    Good"
      ]
     },
     "execution_count": 4,
     "metadata": {},
     "output_type": "execute_result"
    }
   ],
   "source": [
    "eff_train = pd.read_csv('data/eff_train/eff_train1.csv', sep=';')\n",
    "for x in range(2,11):\n",
    "    eff_train_new = pd.read_csv('data/eff_train/eff_train{}.csv'.format(x), sep=';')\n",
    "    eff_train = pd.concat([eff_train, eff_train_new])\n",
    "eff_train = eff_train.rename(columns = {' timestamp':'timestamp', ' value':'value', ' quality':'quality'})\n",
    "eff_train.head(2)"
   ]
  },
  {
   "cell_type": "code",
   "execution_count": 5,
   "metadata": {},
   "outputs": [
    {
     "data": {
      "text/html": [
       "<div>\n",
       "<style>\n",
       "    .dataframe thead tr:only-child th {\n",
       "        text-align: right;\n",
       "    }\n",
       "\n",
       "    .dataframe thead th {\n",
       "        text-align: left;\n",
       "    }\n",
       "\n",
       "    .dataframe tbody tr th {\n",
       "        vertical-align: top;\n",
       "    }\n",
       "</style>\n",
       "<table border=\"1\" class=\"dataframe\">\n",
       "  <thead>\n",
       "    <tr style=\"text-align: right;\">\n",
       "      <th></th>\n",
       "      <th>tag</th>\n",
       "      <th>timestamp</th>\n",
       "      <th>value</th>\n",
       "      <th>quality</th>\n",
       "    </tr>\n",
       "  </thead>\n",
       "  <tbody>\n",
       "    <tr>\n",
       "      <th>0</th>\n",
       "      <td>Efficiency</td>\n",
       "      <td>01.08.2017 0:00</td>\n",
       "      <td>16836.91</td>\n",
       "      <td>Good</td>\n",
       "    </tr>\n",
       "    <tr>\n",
       "      <th>1</th>\n",
       "      <td>Efficiency</td>\n",
       "      <td>01.08.2017 0:00</td>\n",
       "      <td>17145.51</td>\n",
       "      <td>Good</td>\n",
       "    </tr>\n",
       "  </tbody>\n",
       "</table>\n",
       "</div>"
      ],
      "text/plain": [
       "          tag        timestamp     value quality\n",
       "0  Efficiency  01.08.2017 0:00  16836.91    Good\n",
       "1  Efficiency  01.08.2017 0:00  17145.51    Good"
      ]
     },
     "execution_count": 5,
     "metadata": {},
     "output_type": "execute_result"
    }
   ],
   "source": [
    "eff_test1 = pd.read_csv('data/eff_test/eff_test1.csv', sep=';')\n",
    "eff_test2 = pd.read_csv('data/eff_test/eff_test2.csv', sep=';')\n",
    "eff_test = pd.concat([eff_test1, eff_test2])\n",
    "eff_test = eff_test.rename(columns = {' timestamp':'timestamp', ' value':'value', ' quality':'quality'})\n",
    "eff_test.head(2)"
   ]
  },
  {
   "cell_type": "code",
   "execution_count": 6,
   "metadata": {},
   "outputs": [
    {
     "data": {
      "text/html": [
       "<div>\n",
       "<style>\n",
       "    .dataframe thead tr:only-child th {\n",
       "        text-align: right;\n",
       "    }\n",
       "\n",
       "    .dataframe thead th {\n",
       "        text-align: left;\n",
       "    }\n",
       "\n",
       "    .dataframe tbody tr th {\n",
       "        vertical-align: top;\n",
       "    }\n",
       "</style>\n",
       "<table border=\"1\" class=\"dataframe\">\n",
       "  <thead>\n",
       "    <tr style=\"text-align: right;\">\n",
       "      <th></th>\n",
       "      <th>tag</th>\n",
       "      <th>timestamp</th>\n",
       "      <th>value</th>\n",
       "      <th>quality</th>\n",
       "    </tr>\n",
       "  </thead>\n",
       "  <tbody>\n",
       "    <tr>\n",
       "      <th>0</th>\n",
       "      <td>Energy_cons</td>\n",
       "      <td>01.10.2016 0:01</td>\n",
       "      <td>20.347508</td>\n",
       "      <td>Good</td>\n",
       "    </tr>\n",
       "    <tr>\n",
       "      <th>1</th>\n",
       "      <td>Energy_cons</td>\n",
       "      <td>01.10.2016 0:02</td>\n",
       "      <td>20.24238</td>\n",
       "      <td>Good</td>\n",
       "    </tr>\n",
       "  </tbody>\n",
       "</table>\n",
       "</div>"
      ],
      "text/plain": [
       "           tag        timestamp      value quality\n",
       "0  Energy_cons  01.10.2016 0:01  20.347508    Good\n",
       "1  Energy_cons  01.10.2016 0:02   20.24238    Good"
      ]
     },
     "execution_count": 6,
     "metadata": {},
     "output_type": "execute_result"
    }
   ],
   "source": [
    "energy_train = pd.read_csv('data/energy_cons_train/Energy_cons_train1.csv', sep=';')\n",
    "for x in range(2,11):\n",
    "    energy_train_new = pd.read_csv('data/energy_cons_train/Energy_cons_train{}.csv'.format(x), sep=';')\n",
    "    energy_train = pd.concat([energy_train, energy_train_new])\n",
    "energy_train = energy_train.rename(columns = { ' timestamp':'timestamp', ' value':'value', ' quality':'quality'})\n",
    "energy_train.head(2)"
   ]
  },
  {
   "cell_type": "code",
   "execution_count": 7,
   "metadata": {},
   "outputs": [
    {
     "data": {
      "text/html": [
       "<div>\n",
       "<style>\n",
       "    .dataframe thead tr:only-child th {\n",
       "        text-align: right;\n",
       "    }\n",
       "\n",
       "    .dataframe thead th {\n",
       "        text-align: left;\n",
       "    }\n",
       "\n",
       "    .dataframe tbody tr th {\n",
       "        vertical-align: top;\n",
       "    }\n",
       "</style>\n",
       "<table border=\"1\" class=\"dataframe\">\n",
       "  <thead>\n",
       "    <tr style=\"text-align: right;\">\n",
       "      <th></th>\n",
       "      <th>tag</th>\n",
       "      <th>timestamp</th>\n",
       "      <th>value</th>\n",
       "      <th>quality</th>\n",
       "    </tr>\n",
       "  </thead>\n",
       "  <tbody>\n",
       "    <tr>\n",
       "      <th>0</th>\n",
       "      <td>Energy_cons</td>\n",
       "      <td>01.08.2017 0:01</td>\n",
       "      <td>17.324733</td>\n",
       "      <td>Good</td>\n",
       "    </tr>\n",
       "    <tr>\n",
       "      <th>1</th>\n",
       "      <td>Energy_cons</td>\n",
       "      <td>01.08.2017 0:02</td>\n",
       "      <td>17.46305</td>\n",
       "      <td>Good</td>\n",
       "    </tr>\n",
       "  </tbody>\n",
       "</table>\n",
       "</div>"
      ],
      "text/plain": [
       "           tag        timestamp      value quality\n",
       "0  Energy_cons  01.08.2017 0:01  17.324733    Good\n",
       "1  Energy_cons  01.08.2017 0:02   17.46305    Good"
      ]
     },
     "execution_count": 7,
     "metadata": {},
     "output_type": "execute_result"
    }
   ],
   "source": [
    "energy_test = pd.read_csv('data/energy_cons_test/Energy_cons_test1.csv', sep=';')\n",
    "x=2\n",
    "energy_test_new = pd.read_csv('data/energy_cons_test/Energy_cons_test{}.csv'.format(x), sep=';')\n",
    "energy_test = pd.concat([energy_test, energy_test_new])\n",
    "energy_test = energy_test.rename(columns = { ' timestamp':'timestamp', ' value':'value', ' quality':'quality'})\n",
    "energy_test.head(2)"
   ]
  },
  {
   "cell_type": "code",
   "execution_count": 8,
   "metadata": {},
   "outputs": [
    {
     "data": {
      "text/html": [
       "<div>\n",
       "<style>\n",
       "    .dataframe thead tr:only-child th {\n",
       "        text-align: right;\n",
       "    }\n",
       "\n",
       "    .dataframe thead th {\n",
       "        text-align: left;\n",
       "    }\n",
       "\n",
       "    .dataframe tbody tr th {\n",
       "        vertical-align: top;\n",
       "    }\n",
       "</style>\n",
       "<table border=\"1\" class=\"dataframe\">\n",
       "  <thead>\n",
       "    <tr style=\"text-align: right;\">\n",
       "      <th></th>\n",
       "      <th>tag</th>\n",
       "      <th>timestamp</th>\n",
       "      <th>value</th>\n",
       "      <th>quality</th>\n",
       "    </tr>\n",
       "  </thead>\n",
       "  <tbody>\n",
       "    <tr>\n",
       "      <th>0</th>\n",
       "      <td>Quality</td>\n",
       "      <td>01.10.2016 0:38</td>\n",
       "      <td>2.2</td>\n",
       "      <td>Good</td>\n",
       "    </tr>\n",
       "    <tr>\n",
       "      <th>1</th>\n",
       "      <td>Quality</td>\n",
       "      <td>01.10.2016 1:02</td>\n",
       "      <td>2.2</td>\n",
       "      <td>Good</td>\n",
       "    </tr>\n",
       "  </tbody>\n",
       "</table>\n",
       "</div>"
      ],
      "text/plain": [
       "       tag        timestamp  value quality\n",
       "0  Quality  01.10.2016 0:38    2.2    Good\n",
       "1  Quality  01.10.2016 1:02    2.2    Good"
      ]
     },
     "execution_count": 8,
     "metadata": {},
     "output_type": "execute_result"
    }
   ],
   "source": [
    "qual_train = pd.read_csv('data/qual_train/qual_train1.csv', sep=';') \n",
    "for x in range(2,11): \n",
    "    qual_train_new = pd.read_csv('data/qual_train/qual_train{}.csv'.format(x), sep=';') \n",
    "    qual_train = pd.concat([qual_train, qual_train_new], ignore_index = True) \n",
    "qual_train = qual_train.rename(columns = { ' timestamp':'timestamp', ' value':'value', ' quality':'quality'}) \n",
    "qual_train.head(2)"
   ]
  },
  {
   "cell_type": "code",
   "execution_count": 9,
   "metadata": {
    "scrolled": true
   },
   "outputs": [
    {
     "data": {
      "text/html": [
       "<div>\n",
       "<style>\n",
       "    .dataframe thead tr:only-child th {\n",
       "        text-align: right;\n",
       "    }\n",
       "\n",
       "    .dataframe thead th {\n",
       "        text-align: left;\n",
       "    }\n",
       "\n",
       "    .dataframe tbody tr th {\n",
       "        vertical-align: top;\n",
       "    }\n",
       "</style>\n",
       "<table border=\"1\" class=\"dataframe\">\n",
       "  <thead>\n",
       "    <tr style=\"text-align: right;\">\n",
       "      <th></th>\n",
       "      <th>tag</th>\n",
       "      <th>timestamp</th>\n",
       "      <th>value</th>\n",
       "      <th>quality</th>\n",
       "    </tr>\n",
       "  </thead>\n",
       "  <tbody>\n",
       "    <tr>\n",
       "      <th>0</th>\n",
       "      <td>Quality</td>\n",
       "      <td>01.08.2017 0:14</td>\n",
       "      <td>2.2</td>\n",
       "      <td>Good</td>\n",
       "    </tr>\n",
       "    <tr>\n",
       "      <th>1</th>\n",
       "      <td>Quality</td>\n",
       "      <td>01.08.2017 0:38</td>\n",
       "      <td>2.2</td>\n",
       "      <td>Good</td>\n",
       "    </tr>\n",
       "  </tbody>\n",
       "</table>\n",
       "</div>"
      ],
      "text/plain": [
       "       tag        timestamp  value quality\n",
       "0  Quality  01.08.2017 0:14    2.2    Good\n",
       "1  Quality  01.08.2017 0:38    2.2    Good"
      ]
     },
     "execution_count": 9,
     "metadata": {},
     "output_type": "execute_result"
    }
   ],
   "source": [
    "qual_test = pd.read_csv('data/qual_test/qual_test1.csv', sep=';') \n",
    "x=2 \n",
    "qual_test_new = pd.read_csv('data/qual_test/qual_test{}.csv'.format(x), sep=';') \n",
    "qual_test = pd.concat([qual_test, qual_test_new]) \n",
    "qual_test = qual_test.rename(columns = { ' timestamp':'timestamp', ' value':'value', ' quality':'quality'}) \n",
    "qual_test.head(2)"
   ]
  },
  {
   "cell_type": "markdown",
   "metadata": {},
   "source": [
    "Объеденим трэйн и тест:"
   ]
  },
  {
   "cell_type": "code",
   "execution_count": 10,
   "metadata": {
    "collapsed": true
   },
   "outputs": [],
   "source": [
    "eff_all = pd.concat([eff_train, eff_test])\n",
    "qual_all = pd.concat([qual_train, qual_test])\n",
    "energy_all = pd.concat([energy_train, energy_test])"
   ]
  },
  {
   "cell_type": "markdown",
   "metadata": {},
   "source": [
    "преобразуем колонку timestamp в тип datetime:"
   ]
  },
  {
   "cell_type": "code",
   "execution_count": 11,
   "metadata": {
    "collapsed": true
   },
   "outputs": [],
   "source": [
    "eff_all[\"timestamp\"] = pd.to_datetime(eff_all[\"timestamp\"], format = '%d.%m.%Y %H:%M')\n",
    "qual_all[\"timestamp\"] = pd.to_datetime(qual_all[\"timestamp\"], format = '%d.%m.%Y %H:%M')\n",
    "energy_all[\"timestamp\"] = pd.to_datetime(energy_all[\"timestamp\"], format = '%d.%m.%Y %H:%M')"
   ]
  },
  {
   "cell_type": "code",
   "execution_count": 12,
   "metadata": {},
   "outputs": [
    {
     "data": {
      "text/html": [
       "<div>\n",
       "<style>\n",
       "    .dataframe thead tr:only-child th {\n",
       "        text-align: right;\n",
       "    }\n",
       "\n",
       "    .dataframe thead th {\n",
       "        text-align: left;\n",
       "    }\n",
       "\n",
       "    .dataframe tbody tr th {\n",
       "        vertical-align: top;\n",
       "    }\n",
       "</style>\n",
       "<table border=\"1\" class=\"dataframe\">\n",
       "  <thead>\n",
       "    <tr style=\"text-align: right;\">\n",
       "      <th></th>\n",
       "      <th>tag</th>\n",
       "      <th>timestamp</th>\n",
       "      <th>value</th>\n",
       "      <th>quality</th>\n",
       "    </tr>\n",
       "  </thead>\n",
       "  <tbody>\n",
       "    <tr>\n",
       "      <th>0</th>\n",
       "      <td>Efficiency</td>\n",
       "      <td>2016-10-01</td>\n",
       "      <td>16137.70</td>\n",
       "      <td>Good</td>\n",
       "    </tr>\n",
       "    <tr>\n",
       "      <th>1</th>\n",
       "      <td>Efficiency</td>\n",
       "      <td>2016-10-01</td>\n",
       "      <td>16060.55</td>\n",
       "      <td>Good</td>\n",
       "    </tr>\n",
       "  </tbody>\n",
       "</table>\n",
       "</div>"
      ],
      "text/plain": [
       "          tag  timestamp     value quality\n",
       "0  Efficiency 2016-10-01  16137.70    Good\n",
       "1  Efficiency 2016-10-01  16060.55    Good"
      ]
     },
     "execution_count": 12,
     "metadata": {},
     "output_type": "execute_result"
    }
   ],
   "source": [
    "eff_all.head(2)"
   ]
  },
  {
   "cell_type": "code",
   "execution_count": 13,
   "metadata": {},
   "outputs": [
    {
     "data": {
      "text/html": [
       "<div>\n",
       "<style>\n",
       "    .dataframe thead tr:only-child th {\n",
       "        text-align: right;\n",
       "    }\n",
       "\n",
       "    .dataframe thead th {\n",
       "        text-align: left;\n",
       "    }\n",
       "\n",
       "    .dataframe tbody tr th {\n",
       "        vertical-align: top;\n",
       "    }\n",
       "</style>\n",
       "<table border=\"1\" class=\"dataframe\">\n",
       "  <thead>\n",
       "    <tr style=\"text-align: right;\">\n",
       "      <th></th>\n",
       "      <th>tag</th>\n",
       "      <th>timestamp</th>\n",
       "      <th>value</th>\n",
       "      <th>quality</th>\n",
       "    </tr>\n",
       "  </thead>\n",
       "  <tbody>\n",
       "    <tr>\n",
       "      <th>0</th>\n",
       "      <td>Quality</td>\n",
       "      <td>2016-10-01 00:38:00</td>\n",
       "      <td>2.2</td>\n",
       "      <td>Good</td>\n",
       "    </tr>\n",
       "    <tr>\n",
       "      <th>1</th>\n",
       "      <td>Quality</td>\n",
       "      <td>2016-10-01 01:02:00</td>\n",
       "      <td>2.2</td>\n",
       "      <td>Good</td>\n",
       "    </tr>\n",
       "  </tbody>\n",
       "</table>\n",
       "</div>"
      ],
      "text/plain": [
       "       tag           timestamp  value quality\n",
       "0  Quality 2016-10-01 00:38:00    2.2    Good\n",
       "1  Quality 2016-10-01 01:02:00    2.2    Good"
      ]
     },
     "execution_count": 13,
     "metadata": {},
     "output_type": "execute_result"
    }
   ],
   "source": [
    "qual_all.head(2)"
   ]
  },
  {
   "cell_type": "code",
   "execution_count": 14,
   "metadata": {},
   "outputs": [
    {
     "data": {
      "text/html": [
       "<div>\n",
       "<style>\n",
       "    .dataframe thead tr:only-child th {\n",
       "        text-align: right;\n",
       "    }\n",
       "\n",
       "    .dataframe thead th {\n",
       "        text-align: left;\n",
       "    }\n",
       "\n",
       "    .dataframe tbody tr th {\n",
       "        vertical-align: top;\n",
       "    }\n",
       "</style>\n",
       "<table border=\"1\" class=\"dataframe\">\n",
       "  <thead>\n",
       "    <tr style=\"text-align: right;\">\n",
       "      <th></th>\n",
       "      <th>tag</th>\n",
       "      <th>timestamp</th>\n",
       "      <th>value</th>\n",
       "      <th>quality</th>\n",
       "    </tr>\n",
       "  </thead>\n",
       "  <tbody>\n",
       "    <tr>\n",
       "      <th>0</th>\n",
       "      <td>Energy_cons</td>\n",
       "      <td>2016-10-01 00:01:00</td>\n",
       "      <td>20.347508</td>\n",
       "      <td>Good</td>\n",
       "    </tr>\n",
       "    <tr>\n",
       "      <th>1</th>\n",
       "      <td>Energy_cons</td>\n",
       "      <td>2016-10-01 00:02:00</td>\n",
       "      <td>20.24238</td>\n",
       "      <td>Good</td>\n",
       "    </tr>\n",
       "    <tr>\n",
       "      <th>2</th>\n",
       "      <td>Energy_cons</td>\n",
       "      <td>2016-10-01 00:03:00</td>\n",
       "      <td>20.208391</td>\n",
       "      <td>Good</td>\n",
       "    </tr>\n",
       "    <tr>\n",
       "      <th>3</th>\n",
       "      <td>Energy_cons</td>\n",
       "      <td>2016-10-01 00:04:00</td>\n",
       "      <td>20.239189</td>\n",
       "      <td>Good</td>\n",
       "    </tr>\n",
       "    <tr>\n",
       "      <th>4</th>\n",
       "      <td>Energy_cons</td>\n",
       "      <td>2016-10-01 00:05:00</td>\n",
       "      <td>20.262808</td>\n",
       "      <td>Good</td>\n",
       "    </tr>\n",
       "  </tbody>\n",
       "</table>\n",
       "</div>"
      ],
      "text/plain": [
       "           tag           timestamp      value quality\n",
       "0  Energy_cons 2016-10-01 00:01:00  20.347508    Good\n",
       "1  Energy_cons 2016-10-01 00:02:00   20.24238    Good\n",
       "2  Energy_cons 2016-10-01 00:03:00  20.208391    Good\n",
       "3  Energy_cons 2016-10-01 00:04:00  20.239189    Good\n",
       "4  Energy_cons 2016-10-01 00:05:00  20.262808    Good"
      ]
     },
     "execution_count": 14,
     "metadata": {},
     "output_type": "execute_result"
    }
   ],
   "source": [
    "energy_all.head()"
   ]
  },
  {
   "cell_type": "markdown",
   "metadata": {},
   "source": [
    "Уберем мусор в данных:"
   ]
  },
  {
   "cell_type": "code",
   "execution_count": 15,
   "metadata": {
    "collapsed": true
   },
   "outputs": [],
   "source": [
    "energy_all[\"value\"] = pd.to_numeric(energy_all[\"value\"], downcast = 'float', errors='coerse')\n",
    "energy_all = energy_all[energy_all[\"value\"].notnull()]"
   ]
  },
  {
   "cell_type": "code",
   "execution_count": 16,
   "metadata": {
    "collapsed": true
   },
   "outputs": [],
   "source": [
    "energy_all = energy_all[energy_all[\"quality\"] == \"Good\"]\n",
    "qual_all = qual_all[qual_all[\"quality\"] == \"Good\"]\n",
    "eff_all = eff_all[eff_all[\"quality\"] == \"Good\"]\n",
    "eff_all = eff_all[eff_all[\"value\"] > 0.0]\n",
    "#qual_all = qual_all[qual_all[\"value\"] > 0.0]\n",
    "#energy_all = energy_all[energy_all[\"value\"] > 0.0]"
   ]
  },
  {
   "cell_type": "markdown",
   "metadata": {},
   "source": [
    "# Визуализируем данные"
   ]
  },
  {
   "cell_type": "code",
   "execution_count": 18,
   "metadata": {
    "scrolled": true
   },
   "outputs": [
    {
     "data": {
      "image/png": "[encoded data removed]",
      "text/plain": [
       "<matplotlib.figure.Figure at 0x7f19fa2cba58>"
      ]
     },
     "metadata": {},
     "output_type": "display_data"
    }
   ],
   "source": [
    "plt.hist(energy_all[\"value\"], 15)\n",
    "plt.title(\"Energy\")\n",
    "plt.show()"
   ]
  },
  {
   "cell_type": "code",
   "execution_count": 19,
   "metadata": {},
   "outputs": [
    {
     "data": {
      "image/png": "[encoded data removed]",
      "text/plain": [
       "<matplotlib.figure.Figure at 0x7f19fa289208>"
      ]
     },
     "metadata": {},
     "output_type": "display_data"
    }
   ],
   "source": [
    "plt.hist(eff_all[\"value\"], 30)\n",
    "plt.title(\"Efficiency\")\n",
    "plt.show()"
   ]
  },
  {
   "cell_type": "code",
   "execution_count": 20,
   "metadata": {},
   "outputs": [
    {
     "data": {
      "text/plain": [
       "<matplotlib.text.Text at 0x7f19fa0aa7f0>"
      ]
     },
     "execution_count": 20,
     "metadata": {},
     "output_type": "execute_result"
    },
    {
     "data": {
      "image/png": "[encoded data removed]",
      "text/plain": [
       "<matplotlib.figure.Figure at 0x7f19fa0f0f60>"
      ]
     },
     "metadata": {},
     "output_type": "display_data"
    }
   ],
   "source": [
    "energy_all.plot(x = 'timestamp', y = 'value')\n",
    "plt.title(\"Energy\")"
   ]
  },
  {
   "cell_type": "code",
   "execution_count": 21,
   "metadata": {},
   "outputs": [
    {
     "data": {
      "text/plain": [
       "<matplotlib.axes._subplots.AxesSubplot at 0x7f19fa182780>"
      ]
     },
     "execution_count": 21,
     "metadata": {},
     "output_type": "execute_result"
    },
    {
     "data": {
      "image/png": "[encoded data removed]",
      "text/plain": [
       "<matplotlib.figure.Figure at 0x7f19fa188c18>"
      ]
     },
     "metadata": {},
     "output_type": "display_data"
    }
   ],
   "source": [
    "qual_all.plot(x = 'timestamp', y = 'value')"
   ]
  },
  {
   "cell_type": "code",
   "execution_count": 4,
   "metadata": {},
   "outputs": [
    {
     "ename": "NameError",
     "evalue": "name 'eff_all' is not defined",
     "output_type": "error",
     "traceback": [
      "\u001b[0;31m---------------------------------------------------------------------------\u001b[0m",
      "\u001b[0;31mNameError\u001b[0m                                 Traceback (most recent call last)",
      "\u001b[0;32m<ipython-input-4-b05e30715357>\u001b[0m in \u001b[0;36m<module>\u001b[0;34m()\u001b[0m\n\u001b[1;32m      1\u001b[0m \u001b[0meff_new\u001b[0m \u001b[0;34m=\u001b[0m \u001b[0mpd\u001b[0m\u001b[0;34m.\u001b[0m\u001b[0mDataFrame\u001b[0m\u001b[0;34m(\u001b[0m\u001b[0;34m)\u001b[0m\u001b[0;34m\u001b[0m\u001b[0m\n\u001b[0;32m----> 2\u001b[0;31m \u001b[0meff_new\u001b[0m\u001b[0;34m[\u001b[0m\u001b[0;34m'timestamp'\u001b[0m\u001b[0;34m]\u001b[0m \u001b[0;34m=\u001b[0m \u001b[0meff_all\u001b[0m\u001b[0;34m.\u001b[0m\u001b[0mgroupby\u001b[0m\u001b[0;34m(\u001b[0m\u001b[0;34m\"timestamp\"\u001b[0m\u001b[0;34m)\u001b[0m\u001b[0;34m.\u001b[0m\u001b[0mvalue\u001b[0m\u001b[0;34m.\u001b[0m\u001b[0mmean\u001b[0m\u001b[0;34m(\u001b[0m\u001b[0;34m)\u001b[0m\u001b[0;34m.\u001b[0m\u001b[0mindex\u001b[0m\u001b[0;34m\u001b[0m\u001b[0m\n\u001b[0m\u001b[1;32m      3\u001b[0m \u001b[0meff_new\u001b[0m\u001b[0;34m[\u001b[0m\u001b[0;34m'value'\u001b[0m\u001b[0;34m]\u001b[0m \u001b[0;34m=\u001b[0m \u001b[0meff_all\u001b[0m\u001b[0;34m.\u001b[0m\u001b[0mgroupby\u001b[0m\u001b[0;34m(\u001b[0m\u001b[0;34m\"timestamp\"\u001b[0m\u001b[0;34m)\u001b[0m\u001b[0;34m.\u001b[0m\u001b[0mvalue\u001b[0m\u001b[0;34m.\u001b[0m\u001b[0mmean\u001b[0m\u001b[0;34m(\u001b[0m\u001b[0;34m)\u001b[0m\u001b[0;34m.\u001b[0m\u001b[0mvalues\u001b[0m\u001b[0;34m\u001b[0m\u001b[0m\n\u001b[1;32m      4\u001b[0m \u001b[0meff_new\u001b[0m\u001b[0;34m[\u001b[0m\u001b[0;34m'day'\u001b[0m\u001b[0;34m]\u001b[0m \u001b[0;34m=\u001b[0m \u001b[0;34m(\u001b[0m\u001b[0meff_new\u001b[0m\u001b[0;34m[\u001b[0m\u001b[0;34m'timestamp'\u001b[0m\u001b[0;34m]\u001b[0m\u001b[0;34m.\u001b[0m\u001b[0mvalues\u001b[0m\u001b[0;34m)\u001b[0m\u001b[0;34m.\u001b[0m\u001b[0mastype\u001b[0m\u001b[0;34m(\u001b[0m\u001b[0;34m'datetime64[D]'\u001b[0m\u001b[0;34m)\u001b[0m\u001b[0;34m.\u001b[0m\u001b[0mastype\u001b[0m\u001b[0;34m(\u001b[0m\u001b[0mint\u001b[0m\u001b[0;34m)\u001b[0m\u001b[0;34m-\u001b[0m\u001b[0mnp\u001b[0m\u001b[0;34m.\u001b[0m\u001b[0mdatetime64\u001b[0m\u001b[0;34m(\u001b[0m\u001b[0;34m'2016-10-01'\u001b[0m\u001b[0;34m)\u001b[0m\u001b[0;34m.\u001b[0m\u001b[0mastype\u001b[0m\u001b[0;34m(\u001b[0m\u001b[0;34m'datetime64[D]'\u001b[0m\u001b[0;34m)\u001b[0m\u001b[0;34m.\u001b[0m\u001b[0mastype\u001b[0m\u001b[0;34m(\u001b[0m\u001b[0mint\u001b[0m\u001b[0;34m)\u001b[0m\u001b[0;34m\u001b[0m\u001b[0m\n\u001b[1;32m      5\u001b[0m \u001b[0;34m\u001b[0m\u001b[0m\n",
      "\u001b[0;31mNameError\u001b[0m: name 'eff_all' is not defined"
     ]
    }
   ],
   "source": [
    "eff_new = pd.DataFrame()\n",
    "eff_new['timestamp'] = eff_all.groupby(\"timestamp\").value.mean().index\n",
    "eff_new['value'] = eff_all.groupby(\"timestamp\").value.mean().values\n",
    "eff_new['day'] = (eff_new['timestamp'].values).astype('datetime64[D]').astype(int)-np.datetime64('2016-10-01').astype('datetime64[D]').astype(int)\n",
    "\n",
    "eff_lag_1 = eff_new[eff_new['value'] > 0]\n",
    "eff_lag_1['value'] = np.array([cut_eff(x) for x in eff_lag_1['value'].values])\n",
    "\n",
    "eff_lag_1 = eff_lag_1[eff_lag_1['day'] != 364]\n",
    "#don't use first date\n",
    "eff_new = eff_new[eff_new['day'] > 0]\n",
    "eff_new['day'] += -1\n",
    "\n",
    "mean = eff_lag_1.groupby(\"day\").value.mean() \n",
    "df = pd.DataFrame({'mean_value': mean, 'day': eff_new['day'].unique()}) \n",
    "eff_new = pd.merge(eff_new, df, how = 'left', on = 'day') \n",
    "eff_new.head()"
   ]
  },
  {
   "cell_type": "code",
   "execution_count": null,
   "metadata": {
    "collapsed": true
   },
   "outputs": [],
   "source": []
  },
  {
   "cell_type": "code",
   "execution_count": 3,
   "metadata": {},
   "outputs": [
    {
     "ename": "NameError",
     "evalue": "name 'eff_new' is not defined",
     "output_type": "error",
     "traceback": [
      "\u001b[0;31m---------------------------------------------------------------------------\u001b[0m",
      "\u001b[0;31mNameError\u001b[0m                                 Traceback (most recent call last)",
      "\u001b[0;32m<ipython-input-3-97a3e8fcbceb>\u001b[0m in \u001b[0;36m<module>\u001b[0;34m()\u001b[0m\n\u001b[0;32m----> 1\u001b[0;31m \u001b[0mar\u001b[0m \u001b[0;34m=\u001b[0m \u001b[0mnp\u001b[0m\u001b[0;34m.\u001b[0m\u001b[0marray\u001b[0m\u001b[0;34m(\u001b[0m\u001b[0meff_new\u001b[0m\u001b[0;34m[\u001b[0m\u001b[0;34m'timestamp'\u001b[0m\u001b[0;34m]\u001b[0m\u001b[0;34m.\u001b[0m\u001b[0mvalues\u001b[0m\u001b[0;34m.\u001b[0m\u001b[0mtolist\u001b[0m\u001b[0;34m(\u001b[0m\u001b[0;34m)\u001b[0m \u001b[0;34m-\u001b[0m \u001b[0meff_new\u001b[0m\u001b[0;34m[\u001b[0m\u001b[0;34m'timestamp'\u001b[0m\u001b[0;34m]\u001b[0m\u001b[0;34m.\u001b[0m\u001b[0mvalues\u001b[0m\u001b[0;34m.\u001b[0m\u001b[0mtolist\u001b[0m\u001b[0;34m(\u001b[0m\u001b[0;34m)\u001b[0m\u001b[0;34m,\u001b[0m \u001b[0mdtype\u001b[0m\u001b[0;34m=\u001b[0m\u001b[0mdatetime64\u001b[0m\u001b[0;34m)\u001b[0m\u001b[0;34m\u001b[0m\u001b[0m\n\u001b[0m",
      "\u001b[0;31mNameError\u001b[0m: name 'eff_new' is not defined"
     ]
    }
   ],
   "source": []
  },
  {
   "cell_type": "code",
   "execution_count": 26,
   "metadata": {},
   "outputs": [
    {
     "data": {
      "text/html": [
       "<div>\n",
       "<style>\n",
       "    .dataframe thead tr:only-child th {\n",
       "        text-align: right;\n",
       "    }\n",
       "\n",
       "    .dataframe thead th {\n",
       "        text-align: left;\n",
       "    }\n",
       "\n",
       "    .dataframe tbody tr th {\n",
       "        vertical-align: top;\n",
       "    }\n",
       "</style>\n",
       "<table border=\"1\" class=\"dataframe\">\n",
       "  <thead>\n",
       "    <tr style=\"text-align: right;\">\n",
       "      <th></th>\n",
       "      <th>timestamp</th>\n",
       "      <th>value</th>\n",
       "      <th>day</th>\n",
       "      <th>mean_value</th>\n",
       "    </tr>\n",
       "  </thead>\n",
       "  <tbody>\n",
       "    <tr>\n",
       "      <th>0</th>\n",
       "      <td>2016-10-02 00:14:00</td>\n",
       "      <td>2.2</td>\n",
       "      <td>0</td>\n",
       "      <td>2.193443</td>\n",
       "    </tr>\n",
       "    <tr>\n",
       "      <th>1</th>\n",
       "      <td>2016-10-02 00:38:00</td>\n",
       "      <td>2.2</td>\n",
       "      <td>0</td>\n",
       "      <td>2.193443</td>\n",
       "    </tr>\n",
       "    <tr>\n",
       "      <th>2</th>\n",
       "      <td>2016-10-02 01:02:00</td>\n",
       "      <td>2.2</td>\n",
       "      <td>0</td>\n",
       "      <td>2.193443</td>\n",
       "    </tr>\n",
       "    <tr>\n",
       "      <th>3</th>\n",
       "      <td>2016-10-02 01:26:00</td>\n",
       "      <td>2.2</td>\n",
       "      <td>0</td>\n",
       "      <td>2.193443</td>\n",
       "    </tr>\n",
       "    <tr>\n",
       "      <th>4</th>\n",
       "      <td>2016-10-02 01:50:00</td>\n",
       "      <td>2.2</td>\n",
       "      <td>0</td>\n",
       "      <td>2.193443</td>\n",
       "    </tr>\n",
       "  </tbody>\n",
       "</table>\n",
       "</div>"
      ],
      "text/plain": [
       "            timestamp  value  day  mean_value\n",
       "0 2016-10-02 00:14:00    2.2    0    2.193443\n",
       "1 2016-10-02 00:38:00    2.2    0    2.193443\n",
       "2 2016-10-02 01:02:00    2.2    0    2.193443\n",
       "3 2016-10-02 01:26:00    2.2    0    2.193443\n",
       "4 2016-10-02 01:50:00    2.2    0    2.193443"
      ]
     },
     "execution_count": 26,
     "metadata": {},
     "output_type": "execute_result"
    }
   ],
   "source": [
    "qual_new = pd.DataFrame()\n",
    "qual_new['timestamp'] = qual_all.groupby(\"timestamp\").value.mean().index\n",
    "qual_new['value'] = qual_all.groupby(\"timestamp\").value.mean().values\n",
    "qual_new['day'] = (qual_new['timestamp'].values).astype('datetime64[D]').astype(int)-np.datetime64('2016-10-01').astype('datetime64[D]').astype(int)\n",
    "\n",
    "qual_lag_1 = qual_new[qual_new['value'] > 0]\n",
    "qual_lag_1['value'] = np.array([cut_qual(x) for x in qual_lag_1['value'].values])\n",
    "\n",
    "qual_lag_1 = qual_lag_1[qual_lag_1['day'] != 364]\n",
    "#don't use first date\n",
    "qual_new = qual_new[qual_new['day'] > 0]\n",
    "qual_new['day'] += -1\n",
    "mean = qual_lag_1.groupby(\"day\").value.mean() \n",
    "df = pd.DataFrame({'mean_value': mean, 'day': qual_new['day'].unique()}) \n",
    "qual_new = pd.merge(qual_new, df, how = 'left', on = 'day') \n",
    "qual_new.head()"
   ]
  },
  {
   "cell_type": "code",
   "execution_count": 28,
   "metadata": {},
   "outputs": [
    {
     "name": "stderr",
     "output_type": "stream",
     "text": [
      "/usr/local/anaconda3/lib/python3.5/site-packages/ipykernel_launcher.py:7: SettingWithCopyWarning: \n",
      "A value is trying to be set on a copy of a slice from a DataFrame.\n",
      "Try using .loc[row_indexer,col_indexer] = value instead\n",
      "\n",
      "See the caveats in the documentation: http://pandas.pydata.org/pandas-docs/stable/indexing.html#indexing-view-versus-copy\n",
      "  import sys\n"
     ]
    },
    {
     "data": {
      "text/html": [
       "<div>\n",
       "<style>\n",
       "    .dataframe thead tr:only-child th {\n",
       "        text-align: right;\n",
       "    }\n",
       "\n",
       "    .dataframe thead th {\n",
       "        text-align: left;\n",
       "    }\n",
       "\n",
       "    .dataframe tbody tr th {\n",
       "        vertical-align: top;\n",
       "    }\n",
       "</style>\n",
       "<table border=\"1\" class=\"dataframe\">\n",
       "  <thead>\n",
       "    <tr style=\"text-align: right;\">\n",
       "      <th></th>\n",
       "      <th>timestamp</th>\n",
       "      <th>value</th>\n",
       "      <th>day</th>\n",
       "      <th>mean_value</th>\n",
       "    </tr>\n",
       "  </thead>\n",
       "  <tbody>\n",
       "    <tr>\n",
       "      <th>0</th>\n",
       "      <td>2016-10-02 00:00:00</td>\n",
       "      <td>20.343477</td>\n",
       "      <td>0</td>\n",
       "      <td>20.387334</td>\n",
       "    </tr>\n",
       "    <tr>\n",
       "      <th>1</th>\n",
       "      <td>2016-10-02 00:01:00</td>\n",
       "      <td>20.349155</td>\n",
       "      <td>0</td>\n",
       "      <td>20.387334</td>\n",
       "    </tr>\n",
       "    <tr>\n",
       "      <th>2</th>\n",
       "      <td>2016-10-02 00:02:00</td>\n",
       "      <td>20.396097</td>\n",
       "      <td>0</td>\n",
       "      <td>20.387334</td>\n",
       "    </tr>\n",
       "    <tr>\n",
       "      <th>3</th>\n",
       "      <td>2016-10-02 00:03:00</td>\n",
       "      <td>20.223352</td>\n",
       "      <td>0</td>\n",
       "      <td>20.387334</td>\n",
       "    </tr>\n",
       "    <tr>\n",
       "      <th>4</th>\n",
       "      <td>2016-10-02 00:04:00</td>\n",
       "      <td>20.293682</td>\n",
       "      <td>0</td>\n",
       "      <td>20.387334</td>\n",
       "    </tr>\n",
       "  </tbody>\n",
       "</table>\n",
       "</div>"
      ],
      "text/plain": [
       "            timestamp      value  day  mean_value\n",
       "0 2016-10-02 00:00:00  20.343477    0   20.387334\n",
       "1 2016-10-02 00:01:00  20.349155    0   20.387334\n",
       "2 2016-10-02 00:02:00  20.396097    0   20.387334\n",
       "3 2016-10-02 00:03:00  20.223352    0   20.387334\n",
       "4 2016-10-02 00:04:00  20.293682    0   20.387334"
      ]
     },
     "execution_count": 28,
     "metadata": {},
     "output_type": "execute_result"
    }
   ],
   "source": [
    "energy_new = pd.DataFrame()\n",
    "energy_new['timestamp'] = energy_all.groupby(\"timestamp\").value.mean().index\n",
    "energy_new['value'] = energy_all.groupby(\"timestamp\").value.mean().values\n",
    "energy_new['day'] = (energy_new['timestamp'].values).astype('datetime64[D]').astype(int)-np.datetime64('2016-10-01').astype('datetime64[D]').astype(int)\n",
    "\n",
    "energy_lag_1 = energy_new[energy_new['value'] > 0]\n",
    "energy_lag_1['value'] = np.array([cut_energy(x) for x in energy_lag_1['value'].values])\n",
    "\n",
    "energy_lag_1 = energy_lag_1[energy_lag_1['day'] != 364]\n",
    "#don't use first date\n",
    "energy_new = energy_new[energy_new['day'] > 0]\n",
    "energy_new['day'] += -1\n",
    "mean = energy_lag_1.groupby(\"day\").value.mean() \n",
    "df = pd.DataFrame({'mean_value': mean, 'day': energy_new['day'].unique()}) \n",
    "energy_new = pd.merge(energy_new, df, how = 'left', on = 'day') \n",
    "energy_new.head()"
   ]
  },
  {
   "cell_type": "code",
   "execution_count": 30,
   "metadata": {
    "collapsed": true
   },
   "outputs": [],
   "source": [
    "energy_new['diff'] = energy_new['value'] - energy_new['mean_value']\n",
    "qual_new['diff'] =  qual_new['value'] - qual_new['mean_value']\n",
    "eff_new['diff'] = eff_new['value'] - eff_new['mean_value']"
   ]
  },
  {
   "cell_type": "code",
   "execution_count": 38,
   "metadata": {
    "collapsed": true
   },
   "outputs": [],
   "source": [
    "D_eff = (eff_new['diff']**2).mean()\n",
    "#print \"Efficiency RMSE = {}\".format(math.sqrt(D_eff))\n",
    "D_qual = (qual_new['diff']**2).mean()\n",
    "#print \"Qual RMSE = {}\".format(math.sqrt(D_qual))\n",
    "D_energy = (energy_new['diff']**2).mean()\n",
    "#print \"Energy RMSE = {}\".format(math.sqrt(D_eff))"
   ]
  },
  {
   "cell_type": "code",
   "execution_count": 39,
   "metadata": {
    "collapsed": true
   },
   "outputs": [],
   "source": [
    "def cut_norm_eff(x):\n",
    "    if (math.fabs(x) > 2*math.sqrt(D_eff)):\n",
    "        return 1\n",
    "    else:\n",
    "        return 0"
   ]
  },
  {
   "cell_type": "code",
   "execution_count": 40,
   "metadata": {
    "collapsed": true
   },
   "outputs": [],
   "source": [
    "eff_new['probability'] = eff_new['diff'].apply(lambda x: cut_norm_eff(x))"
   ]
  },
  {
   "cell_type": "code",
   "execution_count": 41,
   "metadata": {},
   "outputs": [
    {
     "data": {
      "text/html": [
       "<div>\n",
       "<style>\n",
       "    .dataframe thead tr:only-child th {\n",
       "        text-align: right;\n",
       "    }\n",
       "\n",
       "    .dataframe thead th {\n",
       "        text-align: left;\n",
       "    }\n",
       "\n",
       "    .dataframe tbody tr th {\n",
       "        vertical-align: top;\n",
       "    }\n",
       "</style>\n",
       "<table border=\"1\" class=\"dataframe\">\n",
       "  <thead>\n",
       "    <tr style=\"text-align: right;\">\n",
       "      <th></th>\n",
       "      <th>timestamp</th>\n",
       "      <th>value</th>\n",
       "      <th>day</th>\n",
       "      <th>mean_value</th>\n",
       "      <th>diff</th>\n",
       "      <th>probability</th>\n",
       "    </tr>\n",
       "  </thead>\n",
       "  <tbody>\n",
       "    <tr>\n",
       "      <th>492021</th>\n",
       "      <td>2017-09-30 23:59:00</td>\n",
       "      <td>15394.936667</td>\n",
       "      <td>363</td>\n",
       "      <td>16064.760874</td>\n",
       "      <td>-669.824208</td>\n",
       "      <td>0</td>\n",
       "    </tr>\n",
       "    <tr>\n",
       "      <th>492022</th>\n",
       "      <td>2017-10-01 00:00:00</td>\n",
       "      <td>15341.800000</td>\n",
       "      <td>364</td>\n",
       "      <td>15341.800000</td>\n",
       "      <td>0.000000</td>\n",
       "      <td>0</td>\n",
       "    </tr>\n",
       "  </tbody>\n",
       "</table>\n",
       "</div>"
      ],
      "text/plain": [
       "                 timestamp         value  day    mean_value        diff  \\\n",
       "492021 2017-09-30 23:59:00  15394.936667  363  16064.760874 -669.824208   \n",
       "492022 2017-10-01 00:00:00  15341.800000  364  15341.800000    0.000000   \n",
       "\n",
       "        probability  \n",
       "492021            0  \n",
       "492022            0  "
      ]
     },
     "execution_count": 41,
     "metadata": {},
     "output_type": "execute_result"
    }
   ],
   "source": [
    "eff_new.tail(2)"
   ]
  },
  {
   "cell_type": "code",
   "execution_count": 57,
   "metadata": {
    "collapsed": true,
    "scrolled": true
   },
   "outputs": [],
   "source": [
    "eff_train = eff_new[eff_new['day'] < 300]\n",
    "eff_test = eff_new[eff_new['day'] >= 300]"
   ]
  },
  {
   "cell_type": "code",
   "execution_count": 63,
   "metadata": {
    "collapsed": true
   },
   "outputs": [],
   "source": [
    "X_train_eff = eff_train.drop(['timestamp','day','probability'], axis = 1)\n",
    "X_test_eff = eff_test.drop(['timestamp','day','probability'], axis = 1)\n",
    "y_train_eff = eff_train['probability'].values.astype(int)\n",
    "y_test_eff = eff_test['probability'].values.astype(int)"
   ]
  },
  {
   "cell_type": "code",
   "execution_count": 60,
   "metadata": {},
   "outputs": [
    {
     "data": {
      "text/plain": [
       "(array([ 401358.,       0.,       0.,       0.,       0.,       0.,\n",
       "              0.,       0.,       0.,    8801.]),\n",
       " array([ 0. ,  0.1,  0.2,  0.3,  0.4,  0.5,  0.6,  0.7,  0.8,  0.9,  1. ]),\n",
       " <a list of 10 Patch objects>)"
      ]
     },
     "execution_count": 60,
     "metadata": {},
     "output_type": "execute_result"
    },
    {
     "data": {
      "image/png": "[encoded data removed]",
      "text/plain": [
       "<matplotlib.figure.Figure at 0x7f19e1f66ef0>"
      ]
     },
     "metadata": {},
     "output_type": "display_data"
    }
   ],
   "source": [
    "plt.hist(y_train_eff)"
   ]
  },
  {
   "cell_type": "code",
   "execution_count": 86,
   "metadata": {
    "collapsed": true
   },
   "outputs": [],
   "source": [
    "model = XGBClassifier()\n",
    "model_fit = model.fit(X_train_eff, y_train_eff)\n",
    "preds_validation = model_fit.predict(X_test_eff)"
   ]
  },
  {
   "cell_type": "code",
   "execution_count": 88,
   "metadata": {},
   "outputs": [
    {
     "data": {
      "text/plain": [
       "<bound method XGBClassifier.evals_result of XGBClassifier(base_score=0.5, colsample_bylevel=1, colsample_bytree=1,\n",
       "       gamma=0, learning_rate=0.1, max_delta_step=0, max_depth=3,\n",
       "       min_child_weight=1, missing=None, n_estimators=100, nthread=-1,\n",
       "       objective='binary:logistic', reg_alpha=0, reg_lambda=1,\n",
       "       scale_pos_weight=1, seed=0, silent=True, subsample=1)>"
      ]
     },
     "execution_count": 88,
     "metadata": {},
     "output_type": "execute_result"
    }
   ],
   "source": [
    "model_fit.evals_result"
   ]
  },
  {
   "cell_type": "code",
   "execution_count": 78,
   "metadata": {},
   "outputs": [
    {
     "name": "stdout",
     "output_type": "stream",
     "text": [
      "1.0\n"
     ]
    }
   ],
   "source": [
    "print((1 - ((preds_validation-y_test_eff)**2).sum()/(((y_test_eff-y_test_eff.mean())**2).sum())))"
   ]
  },
  {
   "cell_type": "code",
   "execution_count": 83,
   "metadata": {},
   "outputs": [
    {
     "data": {
      "text/html": [
       "<div>\n",
       "<style>\n",
       "    .dataframe thead tr:only-child th {\n",
       "        text-align: right;\n",
       "    }\n",
       "\n",
       "    .dataframe thead th {\n",
       "        text-align: left;\n",
       "    }\n",
       "\n",
       "    .dataframe tbody tr th {\n",
       "        vertical-align: top;\n",
       "    }\n",
       "</style>\n",
       "<table border=\"1\" class=\"dataframe\">\n",
       "  <thead>\n",
       "    <tr style=\"text-align: right;\">\n",
       "      <th></th>\n",
       "      <th>timestamp</th>\n",
       "      <th>value</th>\n",
       "      <th>day</th>\n",
       "      <th>mean_value</th>\n",
       "      <th>diff</th>\n",
       "      <th>probability</th>\n",
       "    </tr>\n",
       "  </thead>\n",
       "  <tbody>\n",
       "    <tr>\n",
       "      <th>410159</th>\n",
       "      <td>2017-07-29 00:00:00</td>\n",
       "      <td>17420.167500</td>\n",
       "      <td>300</td>\n",
       "      <td>17311.449795</td>\n",
       "      <td>108.717705</td>\n",
       "      <td>0</td>\n",
       "    </tr>\n",
       "    <tr>\n",
       "      <th>410160</th>\n",
       "      <td>2017-07-29 00:01:00</td>\n",
       "      <td>17395.100833</td>\n",
       "      <td>300</td>\n",
       "      <td>17311.449795</td>\n",
       "      <td>83.651038</td>\n",
       "      <td>0</td>\n",
       "    </tr>\n",
       "    <tr>\n",
       "      <th>410161</th>\n",
       "      <td>2017-07-29 00:02:00</td>\n",
       "      <td>17348.063333</td>\n",
       "      <td>300</td>\n",
       "      <td>17311.449795</td>\n",
       "      <td>36.613538</td>\n",
       "      <td>0</td>\n",
       "    </tr>\n",
       "    <tr>\n",
       "      <th>410162</th>\n",
       "      <td>2017-07-29 00:03:00</td>\n",
       "      <td>17440.430833</td>\n",
       "      <td>300</td>\n",
       "      <td>17311.449795</td>\n",
       "      <td>128.981038</td>\n",
       "      <td>0</td>\n",
       "    </tr>\n",
       "    <tr>\n",
       "      <th>410163</th>\n",
       "      <td>2017-07-29 00:04:00</td>\n",
       "      <td>17414.469167</td>\n",
       "      <td>300</td>\n",
       "      <td>17311.449795</td>\n",
       "      <td>103.019372</td>\n",
       "      <td>0</td>\n",
       "    </tr>\n",
       "  </tbody>\n",
       "</table>\n",
       "</div>"
      ],
      "text/plain": [
       "                 timestamp         value  day    mean_value        diff  \\\n",
       "410159 2017-07-29 00:00:00  17420.167500  300  17311.449795  108.717705   \n",
       "410160 2017-07-29 00:01:00  17395.100833  300  17311.449795   83.651038   \n",
       "410161 2017-07-29 00:02:00  17348.063333  300  17311.449795   36.613538   \n",
       "410162 2017-07-29 00:03:00  17440.430833  300  17311.449795  128.981038   \n",
       "410163 2017-07-29 00:04:00  17414.469167  300  17311.449795  103.019372   \n",
       "\n",
       "        probability  \n",
       "410159            0  \n",
       "410160            0  \n",
       "410161            0  \n",
       "410162            0  \n",
       "410163            0  "
      ]
     },
     "execution_count": 83,
     "metadata": {},
     "output_type": "execute_result"
    }
   ],
   "source": [
    "preds_eff = pd.DataFrame(data = eff_test) \n",
    "preds_eff['probability'] = preds_validation\n",
    "preds_eff.head()"
   ]
  },
  {
   "cell_type": "code",
   "execution_count": 89,
   "metadata": {},
   "outputs": [
    {
     "data": {
      "text/plain": [
       "<matplotlib.axes._subplots.AxesSubplot at 0x7f19dfeed4a8>"
      ]
     },
     "execution_count": 89,
     "metadata": {},
     "output_type": "execute_result"
    },
    {
     "data": {
      "image/png": "[encoded data removed]",
      "text/plain": [
       "<matplotlib.figure.Figure at 0x7f19dfeed160>"
      ]
     },
     "metadata": {},
     "output_type": "display_data"
    }
   ],
   "source": [
    "preds_eff.plot()"
   ]
  },
  {
   "cell_type": "code",
   "execution_count": null,
   "metadata": {
    "collapsed": true
   },
   "outputs": [],
   "source": []
  }
 ],
 "metadata": {
  "kernelspec": {
   "display_name": "Python 3",
   "language": "python",
   "name": "python3"
  },
  "language_info": {
   "codemirror_mode": {
    "name": "ipython",
    "version": 3
   },
   "file_extension": ".py",
   "mimetype": "text/x-python",
   "name": "python",
   "nbconvert_exporter": "python",
   "pygments_lexer": "ipython3",
   "version": "3.5.4"
  }
 },
 "nbformat": 4,
 "nbformat_minor": 2
}
