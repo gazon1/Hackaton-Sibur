{
 "cells": [
  {
   "cell_type": "code",
   "execution_count": 1,
   "metadata": {
    "collapsed": true
   },
   "outputs": [],
   "source": [
    "# imports\n",
    "\n",
    "import pandas as pd\n",
    "pd.set_option('display.max_rows', 20)\n",
    "pd.set_option('display.max_columns', 20)\n",
    "\n",
    "import numpy as np\n",
    "import gc\n",
    "\n",
    "import catboost ## thanks to yandex ! :) \n",
    "from sklearn.linear_model import LinearRegression\n",
    "from sklearn.metrics import mean_squared_error\n",
    "from tqdm import tqdm_notebook\n",
    "\n",
    "import seaborn as sns\n",
    "import matplotlib.pyplot as plt\n",
    "%matplotlib inline \n",
    "import statsmodels.api as sm\n",
    "from statsmodels.iolib.table import SimpleTable\n",
    "# info about itertools.product: \n",
    "# https://pythonworld.ru/moduli/modul-itertools.html\n",
    "# https://docs.python.org/2/library/itertools.html\n",
    "from itertools import product"
   ]
  },
  {
   "cell_type": "code",
   "execution_count": 2,
   "metadata": {},
   "outputs": [],
   "source": [
    "def cut_eff(x):\n",
    "    if(x < 12000 or x > 20000):\n",
    "        return 17000\n",
    "    else:\n",
    "        return x\n",
    "    \n",
    "def cut_qual(x):\n",
    "    if(x > 3):\n",
    "        return 2\n",
    "    else:\n",
    "        return x\n",
    "    \n",
    "def cut_energy(x):\n",
    "    if(x < 15 or x > 30):\n",
    "        return 23\n",
    "    else:\n",
    "        return x"
   ]
  },
  {
   "cell_type": "markdown",
   "metadata": {},
   "source": [
    "# Работа с данными"
   ]
  },
  {
   "cell_type": "markdown",
   "metadata": {},
   "source": [
    "Объеденим данные по месяцам:"
   ]
  },
  {
   "cell_type": "code",
   "execution_count": 3,
   "metadata": {},
   "outputs": [
    {
     "data": {
      "text/html": [
       "<div>\n",
       "<table border=\"1\" class=\"dataframe\">\n",
       "  <thead>\n",
       "    <tr style=\"text-align: right;\">\n",
       "      <th></th>\n",
       "      <th>tag</th>\n",
       "      <th>timestamp</th>\n",
       "      <th>value</th>\n",
       "      <th>quality</th>\n",
       "    </tr>\n",
       "  </thead>\n",
       "  <tbody>\n",
       "    <tr>\n",
       "      <th>0</th>\n",
       "      <td>Efficiency</td>\n",
       "      <td>01.10.2016 0:00</td>\n",
       "      <td>16137.70</td>\n",
       "      <td>Good</td>\n",
       "    </tr>\n",
       "    <tr>\n",
       "      <th>1</th>\n",
       "      <td>Efficiency</td>\n",
       "      <td>01.10.2016 0:00</td>\n",
       "      <td>16060.55</td>\n",
       "      <td>Good</td>\n",
       "    </tr>\n",
       "  </tbody>\n",
       "</table>\n",
       "</div>"
      ],
      "text/plain": [
       "          tag        timestamp     value quality\n",
       "0  Efficiency  01.10.2016 0:00  16137.70    Good\n",
       "1  Efficiency  01.10.2016 0:00  16060.55    Good"
      ]
     },
     "execution_count": 3,
     "metadata": {},
     "output_type": "execute_result"
    }
   ],
   "source": [
    "eff_train = pd.read_csv('data/eff_train/eff_train1.csv', sep=';')\n",
    "for x in range(2,11):\n",
    "    eff_train_new = pd.read_csv('data/eff_train/eff_train{}.csv'.format(x), sep=';')\n",
    "    eff_train = pd.concat([eff_train, eff_train_new])\n",
    "eff_train = eff_train.rename(columns = {' timestamp':'timestamp', ' value':'value', ' quality':'quality'})\n",
    "eff_train.head(2)"
   ]
  },
  {
   "cell_type": "code",
   "execution_count": 4,
   "metadata": {},
   "outputs": [
    {
     "data": {
      "text/html": [
       "<div>\n",
       "<table border=\"1\" class=\"dataframe\">\n",
       "  <thead>\n",
       "    <tr style=\"text-align: right;\">\n",
       "      <th></th>\n",
       "      <th>tag</th>\n",
       "      <th>timestamp</th>\n",
       "      <th>value</th>\n",
       "      <th>quality</th>\n",
       "    </tr>\n",
       "  </thead>\n",
       "  <tbody>\n",
       "    <tr>\n",
       "      <th>0</th>\n",
       "      <td>Efficiency</td>\n",
       "      <td>01.08.2017 0:00</td>\n",
       "      <td>16836.91</td>\n",
       "      <td>Good</td>\n",
       "    </tr>\n",
       "    <tr>\n",
       "      <th>1</th>\n",
       "      <td>Efficiency</td>\n",
       "      <td>01.08.2017 0:00</td>\n",
       "      <td>17145.51</td>\n",
       "      <td>Good</td>\n",
       "    </tr>\n",
       "  </tbody>\n",
       "</table>\n",
       "</div>"
      ],
      "text/plain": [
       "          tag        timestamp     value quality\n",
       "0  Efficiency  01.08.2017 0:00  16836.91    Good\n",
       "1  Efficiency  01.08.2017 0:00  17145.51    Good"
      ]
     },
     "execution_count": 4,
     "metadata": {},
     "output_type": "execute_result"
    }
   ],
   "source": [
    "eff_test1 = pd.read_csv('data/eff_test/eff_test1.csv', sep=';')\n",
    "eff_test2 = pd.read_csv('data/eff_test/eff_test2.csv', sep=';')\n",
    "eff_test = pd.concat([eff_test1, eff_test2])\n",
    "eff_test = eff_test.rename(columns = {' timestamp':'timestamp', ' value':'value', ' quality':'quality'})\n",
    "eff_test.head(2)"
   ]
  },
  {
   "cell_type": "code",
   "execution_count": 5,
   "metadata": {},
   "outputs": [
    {
     "data": {
      "text/html": [
       "<div>\n",
       "<table border=\"1\" class=\"dataframe\">\n",
       "  <thead>\n",
       "    <tr style=\"text-align: right;\">\n",
       "      <th></th>\n",
       "      <th>tag</th>\n",
       "      <th>timestamp</th>\n",
       "      <th>value</th>\n",
       "      <th>quality</th>\n",
       "    </tr>\n",
       "  </thead>\n",
       "  <tbody>\n",
       "    <tr>\n",
       "      <th>0</th>\n",
       "      <td>Energy_cons</td>\n",
       "      <td>01.10.2016 0:01</td>\n",
       "      <td>20.347508</td>\n",
       "      <td>Good</td>\n",
       "    </tr>\n",
       "    <tr>\n",
       "      <th>1</th>\n",
       "      <td>Energy_cons</td>\n",
       "      <td>01.10.2016 0:02</td>\n",
       "      <td>20.24238</td>\n",
       "      <td>Good</td>\n",
       "    </tr>\n",
       "  </tbody>\n",
       "</table>\n",
       "</div>"
      ],
      "text/plain": [
       "           tag        timestamp      value quality\n",
       "0  Energy_cons  01.10.2016 0:01  20.347508    Good\n",
       "1  Energy_cons  01.10.2016 0:02   20.24238    Good"
      ]
     },
     "execution_count": 5,
     "metadata": {},
     "output_type": "execute_result"
    }
   ],
   "source": [
    "energy_train = pd.read_csv('data/energy_cons_train/Energy_cons_train1.csv', sep=';')\n",
    "for x in range(2,11):\n",
    "    energy_train_new = pd.read_csv('data/energy_cons_train/Energy_cons_train{}.csv'.format(x), sep=';')\n",
    "    energy_train = pd.concat([energy_train, energy_train_new])\n",
    "energy_train = energy_train.rename(columns = { ' timestamp':'timestamp', ' value':'value', ' quality':'quality'})\n",
    "energy_train.head(2)"
   ]
  },
  {
   "cell_type": "code",
   "execution_count": 6,
   "metadata": {},
   "outputs": [
    {
     "data": {
      "text/html": [
       "<div>\n",
       "<table border=\"1\" class=\"dataframe\">\n",
       "  <thead>\n",
       "    <tr style=\"text-align: right;\">\n",
       "      <th></th>\n",
       "      <th>tag</th>\n",
       "      <th>timestamp</th>\n",
       "      <th>value</th>\n",
       "      <th>quality</th>\n",
       "    </tr>\n",
       "  </thead>\n",
       "  <tbody>\n",
       "    <tr>\n",
       "      <th>0</th>\n",
       "      <td>Energy_cons</td>\n",
       "      <td>01.08.2017 0:01</td>\n",
       "      <td>17.324733</td>\n",
       "      <td>Good</td>\n",
       "    </tr>\n",
       "    <tr>\n",
       "      <th>1</th>\n",
       "      <td>Energy_cons</td>\n",
       "      <td>01.08.2017 0:02</td>\n",
       "      <td>17.46305</td>\n",
       "      <td>Good</td>\n",
       "    </tr>\n",
       "  </tbody>\n",
       "</table>\n",
       "</div>"
      ],
      "text/plain": [
       "           tag        timestamp      value quality\n",
       "0  Energy_cons  01.08.2017 0:01  17.324733    Good\n",
       "1  Energy_cons  01.08.2017 0:02   17.46305    Good"
      ]
     },
     "execution_count": 6,
     "metadata": {},
     "output_type": "execute_result"
    }
   ],
   "source": [
    "energy_test = pd.read_csv('data/energy_cons_test/Energy_cons_test1.csv', sep=';')\n",
    "x=2\n",
    "energy_test_new = pd.read_csv('data/energy_cons_test/Energy_cons_test{}.csv'.format(x), sep=';')\n",
    "energy_test = pd.concat([energy_test, energy_test_new])\n",
    "energy_test = energy_test.rename(columns = { ' timestamp':'timestamp', ' value':'value', ' quality':'quality'})\n",
    "energy_test.head(2)"
   ]
  },
  {
   "cell_type": "code",
   "execution_count": 7,
   "metadata": {},
   "outputs": [
    {
     "data": {
      "text/html": [
       "<div>\n",
       "<table border=\"1\" class=\"dataframe\">\n",
       "  <thead>\n",
       "    <tr style=\"text-align: right;\">\n",
       "      <th></th>\n",
       "      <th>tag</th>\n",
       "      <th>timestamp</th>\n",
       "      <th>value</th>\n",
       "      <th>quality</th>\n",
       "    </tr>\n",
       "  </thead>\n",
       "  <tbody>\n",
       "    <tr>\n",
       "      <th>0</th>\n",
       "      <td>Quality</td>\n",
       "      <td>01.10.2016 0:38</td>\n",
       "      <td>2.2</td>\n",
       "      <td>Good</td>\n",
       "    </tr>\n",
       "    <tr>\n",
       "      <th>1</th>\n",
       "      <td>Quality</td>\n",
       "      <td>01.10.2016 1:02</td>\n",
       "      <td>2.2</td>\n",
       "      <td>Good</td>\n",
       "    </tr>\n",
       "  </tbody>\n",
       "</table>\n",
       "</div>"
      ],
      "text/plain": [
       "       tag        timestamp  value quality\n",
       "0  Quality  01.10.2016 0:38    2.2    Good\n",
       "1  Quality  01.10.2016 1:02    2.2    Good"
      ]
     },
     "execution_count": 7,
     "metadata": {},
     "output_type": "execute_result"
    }
   ],
   "source": [
    "qual_train = pd.read_csv('data/qual_train/qual_train1.csv', sep=';') \n",
    "for x in range(2,11): \n",
    "    qual_train_new = pd.read_csv('data/qual_train/qual_train{}.csv'.format(x), sep=';') \n",
    "    qual_train = pd.concat([qual_train, qual_train_new], ignore_index = True) \n",
    "qual_train = qual_train.rename(columns = { ' timestamp':'timestamp', ' value':'value', ' quality':'quality'}) \n",
    "qual_train.head(2)"
   ]
  },
  {
   "cell_type": "code",
   "execution_count": 8,
   "metadata": {
    "scrolled": true
   },
   "outputs": [
    {
     "data": {
      "text/html": [
       "<div>\n",
       "<table border=\"1\" class=\"dataframe\">\n",
       "  <thead>\n",
       "    <tr style=\"text-align: right;\">\n",
       "      <th></th>\n",
       "      <th>tag</th>\n",
       "      <th>timestamp</th>\n",
       "      <th>value</th>\n",
       "      <th>quality</th>\n",
       "    </tr>\n",
       "  </thead>\n",
       "  <tbody>\n",
       "    <tr>\n",
       "      <th>0</th>\n",
       "      <td>Quality</td>\n",
       "      <td>01.08.2017 0:14</td>\n",
       "      <td>2.2</td>\n",
       "      <td>Good</td>\n",
       "    </tr>\n",
       "    <tr>\n",
       "      <th>1</th>\n",
       "      <td>Quality</td>\n",
       "      <td>01.08.2017 0:38</td>\n",
       "      <td>2.2</td>\n",
       "      <td>Good</td>\n",
       "    </tr>\n",
       "  </tbody>\n",
       "</table>\n",
       "</div>"
      ],
      "text/plain": [
       "       tag        timestamp  value quality\n",
       "0  Quality  01.08.2017 0:14    2.2    Good\n",
       "1  Quality  01.08.2017 0:38    2.2    Good"
      ]
     },
     "execution_count": 8,
     "metadata": {},
     "output_type": "execute_result"
    }
   ],
   "source": [
    "qual_test = pd.read_csv('data/qual_test/qual_test1.csv', sep=';') \n",
    "x=2 \n",
    "qual_test_new = pd.read_csv('data/qual_test/qual_test{}.csv'.format(x), sep=';') \n",
    "qual_test = pd.concat([qual_test, qual_test_new]) \n",
    "qual_test = qual_test.rename(columns = { ' timestamp':'timestamp', ' value':'value', ' quality':'quality'}) \n",
    "qual_test.head(2)"
   ]
  },
  {
   "cell_type": "markdown",
   "metadata": {},
   "source": [
    "Объеденим трэйн и тест:"
   ]
  },
  {
   "cell_type": "code",
   "execution_count": 9,
   "metadata": {},
   "outputs": [],
   "source": [
    "eff_all = pd.concat([eff_train, eff_test])\n",
    "qual_all = pd.concat([qual_train, qual_test])\n",
    "energy_all = pd.concat([energy_train, energy_test])"
   ]
  },
  {
   "cell_type": "markdown",
   "metadata": {},
   "source": [
    "преобразуем колонку timestamp в тип datetime:"
   ]
  },
  {
   "cell_type": "code",
   "execution_count": 10,
   "metadata": {},
   "outputs": [],
   "source": [
    "eff_all[\"timestamp\"] = pd.to_datetime(eff_all[\"timestamp\"], format = '%d.%m.%Y %H:%M')\n",
    "qual_all[\"timestamp\"] = pd.to_datetime(qual_all[\"timestamp\"], format = '%d.%m.%Y %H:%M')\n",
    "energy_all[\"timestamp\"] = pd.to_datetime(energy_all[\"timestamp\"], format = '%d.%m.%Y %H:%M')"
   ]
  },
  {
   "cell_type": "code",
   "execution_count": 11,
   "metadata": {},
   "outputs": [
    {
     "data": {
      "text/html": [
       "<div>\n",
       "<table border=\"1\" class=\"dataframe\">\n",
       "  <thead>\n",
       "    <tr style=\"text-align: right;\">\n",
       "      <th></th>\n",
       "      <th>tag</th>\n",
       "      <th>timestamp</th>\n",
       "      <th>value</th>\n",
       "      <th>quality</th>\n",
       "    </tr>\n",
       "  </thead>\n",
       "  <tbody>\n",
       "    <tr>\n",
       "      <th>0</th>\n",
       "      <td>Efficiency</td>\n",
       "      <td>2016-10-01</td>\n",
       "      <td>16137.70</td>\n",
       "      <td>Good</td>\n",
       "    </tr>\n",
       "    <tr>\n",
       "      <th>1</th>\n",
       "      <td>Efficiency</td>\n",
       "      <td>2016-10-01</td>\n",
       "      <td>16060.55</td>\n",
       "      <td>Good</td>\n",
       "    </tr>\n",
       "  </tbody>\n",
       "</table>\n",
       "</div>"
      ],
      "text/plain": [
       "          tag  timestamp     value quality\n",
       "0  Efficiency 2016-10-01  16137.70    Good\n",
       "1  Efficiency 2016-10-01  16060.55    Good"
      ]
     },
     "execution_count": 11,
     "metadata": {},
     "output_type": "execute_result"
    }
   ],
   "source": [
    "eff_all.head(2)"
   ]
  },
  {
   "cell_type": "code",
   "execution_count": 12,
   "metadata": {},
   "outputs": [
    {
     "data": {
      "text/html": [
       "<div>\n",
       "<table border=\"1\" class=\"dataframe\">\n",
       "  <thead>\n",
       "    <tr style=\"text-align: right;\">\n",
       "      <th></th>\n",
       "      <th>tag</th>\n",
       "      <th>timestamp</th>\n",
       "      <th>value</th>\n",
       "      <th>quality</th>\n",
       "    </tr>\n",
       "  </thead>\n",
       "  <tbody>\n",
       "    <tr>\n",
       "      <th>0</th>\n",
       "      <td>Quality</td>\n",
       "      <td>2016-10-01 00:38:00</td>\n",
       "      <td>2.2</td>\n",
       "      <td>Good</td>\n",
       "    </tr>\n",
       "    <tr>\n",
       "      <th>1</th>\n",
       "      <td>Quality</td>\n",
       "      <td>2016-10-01 01:02:00</td>\n",
       "      <td>2.2</td>\n",
       "      <td>Good</td>\n",
       "    </tr>\n",
       "  </tbody>\n",
       "</table>\n",
       "</div>"
      ],
      "text/plain": [
       "       tag           timestamp  value quality\n",
       "0  Quality 2016-10-01 00:38:00    2.2    Good\n",
       "1  Quality 2016-10-01 01:02:00    2.2    Good"
      ]
     },
     "execution_count": 12,
     "metadata": {},
     "output_type": "execute_result"
    }
   ],
   "source": [
    "qual_all.head(2)"
   ]
  },
  {
   "cell_type": "code",
   "execution_count": 13,
   "metadata": {},
   "outputs": [
    {
     "data": {
      "text/html": [
       "<div>\n",
       "<table border=\"1\" class=\"dataframe\">\n",
       "  <thead>\n",
       "    <tr style=\"text-align: right;\">\n",
       "      <th></th>\n",
       "      <th>tag</th>\n",
       "      <th>timestamp</th>\n",
       "      <th>value</th>\n",
       "      <th>quality</th>\n",
       "    </tr>\n",
       "  </thead>\n",
       "  <tbody>\n",
       "    <tr>\n",
       "      <th>0</th>\n",
       "      <td>Energy_cons</td>\n",
       "      <td>2016-10-01 00:01:00</td>\n",
       "      <td>20.347508</td>\n",
       "      <td>Good</td>\n",
       "    </tr>\n",
       "    <tr>\n",
       "      <th>1</th>\n",
       "      <td>Energy_cons</td>\n",
       "      <td>2016-10-01 00:02:00</td>\n",
       "      <td>20.24238</td>\n",
       "      <td>Good</td>\n",
       "    </tr>\n",
       "    <tr>\n",
       "      <th>2</th>\n",
       "      <td>Energy_cons</td>\n",
       "      <td>2016-10-01 00:03:00</td>\n",
       "      <td>20.208391</td>\n",
       "      <td>Good</td>\n",
       "    </tr>\n",
       "    <tr>\n",
       "      <th>3</th>\n",
       "      <td>Energy_cons</td>\n",
       "      <td>2016-10-01 00:04:00</td>\n",
       "      <td>20.239189</td>\n",
       "      <td>Good</td>\n",
       "    </tr>\n",
       "    <tr>\n",
       "      <th>4</th>\n",
       "      <td>Energy_cons</td>\n",
       "      <td>2016-10-01 00:05:00</td>\n",
       "      <td>20.262808</td>\n",
       "      <td>Good</td>\n",
       "    </tr>\n",
       "  </tbody>\n",
       "</table>\n",
       "</div>"
      ],
      "text/plain": [
       "           tag           timestamp      value quality\n",
       "0  Energy_cons 2016-10-01 00:01:00  20.347508    Good\n",
       "1  Energy_cons 2016-10-01 00:02:00   20.24238    Good\n",
       "2  Energy_cons 2016-10-01 00:03:00  20.208391    Good\n",
       "3  Energy_cons 2016-10-01 00:04:00  20.239189    Good\n",
       "4  Energy_cons 2016-10-01 00:05:00  20.262808    Good"
      ]
     },
     "execution_count": 13,
     "metadata": {},
     "output_type": "execute_result"
    }
   ],
   "source": [
    "energy_all.head()"
   ]
  },
  {
   "cell_type": "markdown",
   "metadata": {},
   "source": [
    "Уберем мусор в данных:"
   ]
  },
  {
   "cell_type": "code",
   "execution_count": 14,
   "metadata": {
    "collapsed": true
   },
   "outputs": [],
   "source": [
    "energy_all[\"value\"] = pd.to_numeric(energy_all[\"value\"], downcast = 'float', errors='coerse')\n",
    "energy_all = energy_all[energy_all[\"value\"].notnull()]"
   ]
  },
  {
   "cell_type": "code",
   "execution_count": 15,
   "metadata": {},
   "outputs": [],
   "source": [
    "energy_all = energy_all[energy_all[\"quality\"] == \"Good\"]\n",
    "qual_all = qual_all[qual_all[\"quality\"] == \"Good\"]\n",
    "eff_all = eff_all[eff_all[\"quality\"] == \"Good\"]\n",
    "eff_all = eff_all[eff_all[\"value\"] > 0.0]\n",
    "#qual_all = qual_all[qual_all[\"value\"] > 0.0]\n",
    "#energy_all = energy_all[energy_all[\"value\"] > 0.0]"
   ]
  },
  {
   "cell_type": "markdown",
   "metadata": {},
   "source": [
    "# Визуализируем данные"
   ]
  },
  {
   "cell_type": "code",
   "execution_count": 16,
   "metadata": {},
   "outputs": [
    {
     "data": {
      "image/png": "[encoded data removed]",
      "text/plain": [
       "<matplotlib.figure.Figure at 0x21106f60>"
      ]
     },
     "metadata": {},
     "output_type": "display_data"
    }
   ],
   "source": [
    "plt.hist(qual_all[\"value\"], 30)\n",
    "plt.title(\"Quality\")\n",
    "plt.show()"
   ]
  },
  {
   "cell_type": "code",
   "execution_count": 17,
   "metadata": {
    "scrolled": true
   },
   "outputs": [
    {
     "data": {
      "image/png": "[encoded data removed]",
      "text/plain": [
       "<matplotlib.figure.Figure at 0x212a27f0>"
      ]
     },
     "metadata": {},
     "output_type": "display_data"
    }
   ],
   "source": [
    "plt.hist(energy_all[\"value\"], 15)\n",
    "plt.title(\"Energy\")\n",
    "plt.show()"
   ]
  },
  {
   "cell_type": "code",
   "execution_count": 18,
   "metadata": {},
   "outputs": [
    {
     "data": {
      "image/png": "[encoded data removed]",
      "text/plain": [
       "<matplotlib.figure.Figure at 0x21385400>"
      ]
     },
     "metadata": {},
     "output_type": "display_data"
    }
   ],
   "source": [
    "plt.hist(eff_all[\"value\"], 30)\n",
    "plt.title(\"Efficiency\")\n",
    "plt.show()"
   ]
  },
  {
   "cell_type": "code",
   "execution_count": 19,
   "metadata": {},
   "outputs": [
    {
     "data": {
      "text/plain": [
       "<matplotlib.text.Text at 0x216a9e48>"
      ]
     },
     "execution_count": 19,
     "metadata": {},
     "output_type": "execute_result"
    },
    {
     "data": {
      "image/png": "[encoded data removed]",
      "text/plain": [
       "<matplotlib.figure.Figure at 0x210ee4e0>"
      ]
     },
     "metadata": {},
     "output_type": "display_data"
    }
   ],
   "source": [
    "energy_all.plot(x = 'timestamp', y = 'value')\n",
    "plt.title(\"Energy\")"
   ]
  },
  {
   "cell_type": "code",
   "execution_count": 20,
   "metadata": {},
   "outputs": [
    {
     "data": {
      "text/plain": [
       "<matplotlib.axes._subplots.AxesSubplot at 0x20b6e278>"
      ]
     },
     "execution_count": 20,
     "metadata": {},
     "output_type": "execute_result"
    },
    {
     "data": {
      "image/png": "[encoded data removed]",
      "text/plain": [
       "<matplotlib.figure.Figure at 0x20b902e8>"
      ]
     },
     "metadata": {},
     "output_type": "display_data"
    }
   ],
   "source": [
    "qual_all.plot(x = 'timestamp', y = 'value')"
   ]
  },
  {
   "cell_type": "code",
   "execution_count": null,
   "metadata": {
    "scrolled": true
   },
   "outputs": [],
   "source": [
    "eff_all.plot(x = 'timestamp', y = 'value')\n",
    "plt.title(\"Efficiency\")"
   ]
  },
  {
   "cell_type": "code",
   "execution_count": null,
   "metadata": {},
   "outputs": [],
   "source": [
    "qual_lol = qual_all[qual_all['timestamp'] > '2017-09-01T12:00:00.000000000']\n",
    "qual_lol = qual_lol[qual_lol['timestamp'] < '2017-10-01T18:30:00.000000000']\n",
    "qual_lol.plot(x = 'timestamp', y = 'value')"
   ]
  },
  {
   "cell_type": "code",
   "execution_count": null,
   "metadata": {},
   "outputs": [],
   "source": [
    "eff_new = pd.DataFrame()\n",
    "eff_new['timestamp'] = eff_all.groupby(\"timestamp\").value.mean().index\n",
    "eff_new['value'] = eff_all.groupby(\"timestamp\").value.mean().values\n",
    "eff_new['day'] = (eff_new['timestamp'].values).astype('datetime64[D]').astype(int)-np.datetime64('2016-10-01').astype('datetime64[D]').astype(int)\n",
    "\n",
    "eff_lag_1 = eff_new[eff_new['value'] > 0]\n",
    "eff_lag_1['value'] = np.array([cut_eff(x) for x in eff_new_lol['value'].values])\n",
    "\n",
    "eff_lag_1 = eff_lag_1[eff_lag_1['day'] != 364]\n",
    "#don't use first date\n",
    "eff_new = eff_new[eff_new['day'] > 0]\n",
    "eff_new['day'] += -1\n",
    "\n",
    "mean = eff_lag_1.groupby(\"day\").value.mean() \n",
    "df = pd.DataFrame({'mean_value': mean, 'day': eff_new['day'].unique()}) \n",
    "eff_new = pd.merge(eff_new, df, how = 'left', on = 'day') \n",
    "eff_new.head()"
   ]
  },
  {
   "cell_type": "code",
   "execution_count": null,
   "metadata": {},
   "outputs": [],
   "source": [
    "eff_new.plot(x = 'timestamp', y = ['value', 'mean_value'])\n",
    "plt.show()"
   ]
  },
  {
   "cell_type": "code",
   "execution_count": null,
   "metadata": {},
   "outputs": [],
   "source": [
    "qual_new = pd.DataFrame()\n",
    "qual_new['timestamp'] = qual_all.groupby(\"timestamp\").value.mean().index\n",
    "qual_new['value'] = qual_all.groupby(\"timestamp\").value.mean().values\n",
    "qual_new['day'] = (qual_new['timestamp'].values).astype('datetime64[D]').astype(int)-np.datetime64('2016-10-01').astype('datetime64[D]').astype(int)\n",
    "\n",
    "qual_lag_1 = qual_new[qual_new['value'] > 0]\n",
    "qual_lag_1['value'] = np.array([cut_qual(x) for x in qual_new_lol['value'].values])\n",
    "\n",
    "qual_lag_1 = qual_lag_1[qual_lag_1['day'] != 364]\n",
    "#don't use first date\n",
    "qual_new = qual_new[qual_new['day'] > 0]\n",
    "qual_new['day'] += -1\n",
    "mean = qual_lag_1.groupby(\"day\").value.mean() \n",
    "df = pd.DataFrame({'mean_value': mean, 'day': qual_new['day'].unique()}) \n",
    "qual_new = pd.merge(qual_new, df, how = 'left', on = 'day') \n",
    "qual_new.head()"
   ]
  },
  {
   "cell_type": "code",
   "execution_count": null,
   "metadata": {},
   "outputs": [],
   "source": [
    "qual_new.plot(x = 'timestamp', y = ['value', 'mean_value'])\n",
    "plt.show()"
   ]
  },
  {
   "cell_type": "code",
   "execution_count": 356,
   "metadata": {},
   "outputs": [
    {
     "name": "stderr",
     "output_type": "stream",
     "text": [
      "C:\\Users\\Alex\\Anaconda2\\lib\\site-packages\\ipykernel\\__main__.py:7: SettingWithCopyWarning: \n",
      "A value is trying to be set on a copy of a slice from a DataFrame.\n",
      "Try using .loc[row_indexer,col_indexer] = value instead\n",
      "\n",
      "See the caveats in the documentation: http://pandas.pydata.org/pandas-docs/stable/indexing.html#indexing-view-versus-copy\n"
     ]
    },
    {
     "data": {
      "text/html": [
       "<div>\n",
       "<table border=\"1\" class=\"dataframe\">\n",
       "  <thead>\n",
       "    <tr style=\"text-align: right;\">\n",
       "      <th></th>\n",
       "      <th>timestamp</th>\n",
       "      <th>value</th>\n",
       "      <th>day</th>\n",
       "      <th>mean_value</th>\n",
       "    </tr>\n",
       "  </thead>\n",
       "  <tbody>\n",
       "    <tr>\n",
       "      <th>0</th>\n",
       "      <td>2016-10-02 00:00:00</td>\n",
       "      <td>20.343477</td>\n",
       "      <td>0</td>\n",
       "      <td>20.387334</td>\n",
       "    </tr>\n",
       "    <tr>\n",
       "      <th>1</th>\n",
       "      <td>2016-10-02 00:01:00</td>\n",
       "      <td>20.349155</td>\n",
       "      <td>0</td>\n",
       "      <td>20.387334</td>\n",
       "    </tr>\n",
       "    <tr>\n",
       "      <th>2</th>\n",
       "      <td>2016-10-02 00:02:00</td>\n",
       "      <td>20.396097</td>\n",
       "      <td>0</td>\n",
       "      <td>20.387334</td>\n",
       "    </tr>\n",
       "    <tr>\n",
       "      <th>3</th>\n",
       "      <td>2016-10-02 00:03:00</td>\n",
       "      <td>20.223352</td>\n",
       "      <td>0</td>\n",
       "      <td>20.387334</td>\n",
       "    </tr>\n",
       "    <tr>\n",
       "      <th>4</th>\n",
       "      <td>2016-10-02 00:04:00</td>\n",
       "      <td>20.293682</td>\n",
       "      <td>0</td>\n",
       "      <td>20.387334</td>\n",
       "    </tr>\n",
       "  </tbody>\n",
       "</table>\n",
       "</div>"
      ],
      "text/plain": [
       "            timestamp      value  day  mean_value\n",
       "0 2016-10-02 00:00:00  20.343477    0   20.387334\n",
       "1 2016-10-02 00:01:00  20.349155    0   20.387334\n",
       "2 2016-10-02 00:02:00  20.396097    0   20.387334\n",
       "3 2016-10-02 00:03:00  20.223352    0   20.387334\n",
       "4 2016-10-02 00:04:00  20.293682    0   20.387334"
      ]
     },
     "execution_count": 356,
     "metadata": {},
     "output_type": "execute_result"
    }
   ],
   "source": [
    "energy_new = pd.DataFrame()\n",
    "energy_new['timestamp'] = energy_all.groupby(\"timestamp\").value.mean().index\n",
    "energy_new['value'] = energy_all.groupby(\"timestamp\").value.mean().values\n",
    "energy_new['day'] = (energy_new['timestamp'].values).astype('datetime64[D]').astype(int)-np.datetime64('2016-10-01').astype('datetime64[D]').astype(int)\n",
    "\n",
    "energy_lag_1 = energy_new[energy_new['value'] > 0]\n",
    "energy_lag_1['value'] = np.array([cut_energy(x) for x in energy_new_lol['value'].values])\n",
    "\n",
    "energy_lag_1 = energy_lag_1[energy_lag_1['day'] != 364]\n",
    "#don't use first date\n",
    "energy_new = energy_new[energy_new['day'] > 0]\n",
    "energy_new['day'] += -1\n",
    "mean = energy_lag_1.groupby(\"day\").value.mean() \n",
    "df = pd.DataFrame({'mean_value': mean, 'day': energy_new['day'].unique()}) \n",
    "energy_new = pd.merge(energy_new, df, how = 'left', on = 'day') \n",
    "energy_new.head()"
   ]
  },
  {
   "cell_type": "code",
   "execution_count": 357,
   "metadata": {},
   "outputs": [
    {
     "data": {
      "image/png": "[encoded data removed]",
      "text/plain": [
       "<matplotlib.figure.Figure at 0x9e747898>"
      ]
     },
     "metadata": {},
     "output_type": "display_data"
    }
   ],
   "source": [
    "energy_new.plot(x = 'timestamp', y = ['value', 'mean_value'])\n",
    "plt.show()"
   ]
  },
  {
   "cell_type": "code",
   "execution_count": 358,
   "metadata": {},
   "outputs": [],
   "source": [
    "energy_new['diff'] = energy_new['value'] - energy_new['mean_value']\n",
    "qual_new['diff'] =  qual_new['value'] - qual_new['mean_value']\n",
    "eff_new['diff'] = eff_new['value'] - eff_new['mean_value']"
   ]
  },
  {
   "cell_type": "code",
   "execution_count": 322,
   "metadata": {
    "scrolled": true
   },
   "outputs": [
    {
     "data": {
      "text/plain": [
       "<matplotlib.axes._subplots.AxesSubplot at 0x3de2e588>"
      ]
     },
     "execution_count": 322,
     "metadata": {},
     "output_type": "execute_result"
    },
    {
     "data": {
      "image/png": "[encoded data removed]",
      "text/plain": [
       "<matplotlib.figure.Figure at 0x3e0c1cc0>"
      ]
     },
     "metadata": {},
     "output_type": "display_data"
    }
   ],
   "source": [
    "eff_new.plot(x = 'timestamp', y = 'diff')"
   ]
  },
  {
   "cell_type": "code",
   "execution_count": 327,
   "metadata": {},
   "outputs": [
    {
     "data": {
      "text/plain": [
       "<matplotlib.axes._subplots.AxesSubplot at 0xdd13a6a0>"
      ]
     },
     "execution_count": 327,
     "metadata": {},
     "output_type": "execute_result"
    },
    {
     "data": {
      "image/png": "[encoded data removed]",
      "text/plain": [
       "<matplotlib.figure.Figure at 0x9f1d57f0>"
      ]
     },
     "metadata": {},
     "output_type": "display_data"
    }
   ],
   "source": [
    "qual_new.plot(x = 'timestamp', y = 'diff')"
   ]
  },
  {
   "cell_type": "code",
   "execution_count": 319,
   "metadata": {},
   "outputs": [
    {
     "data": {
      "text/plain": [
       "<matplotlib.axes._subplots.AxesSubplot at 0xdd19d7f0>"
      ]
     },
     "execution_count": 319,
     "metadata": {},
     "output_type": "execute_result"
    },
    {
     "data": {
      "image/png": "[encoded data removed]",
      "text/plain": [
       "<matplotlib.figure.Figure at 0x3e252b00>"
      ]
     },
     "metadata": {},
     "output_type": "display_data"
    }
   ],
   "source": [
    "energy_new.plot(x = 'timestamp', y = 'diff')"
   ]
  },
  {
   "cell_type": "code",
   "execution_count": 323,
   "metadata": {},
   "outputs": [
    {
     "data": {
      "image/png": "[encoded data removed]",
      "text/plain": [
       "<matplotlib.figure.Figure at 0x3de2ebe0>"
      ]
     },
     "metadata": {},
     "output_type": "display_data"
    }
   ],
   "source": [
    "plt.hist(energy_new['diff'], 25)\n",
    "plt.show()"
   ]
  },
  {
   "cell_type": "code",
   "execution_count": 324,
   "metadata": {},
   "outputs": [
    {
     "data": {
      "image/png": "[encoded data removed]",
      "text/plain": [
       "<matplotlib.figure.Figure at 0x9d389d68>"
      ]
     },
     "metadata": {},
     "output_type": "display_data"
    }
   ],
   "source": [
    "plt.hist(eff_new['diff'], 25)\n",
    "plt.show()"
   ]
  },
  {
   "cell_type": "code",
   "execution_count": 328,
   "metadata": {},
   "outputs": [
    {
     "data": {
      "image/png": "[encoded data removed]",
      "text/plain": [
       "<matplotlib.figure.Figure at 0x9e79a160>"
      ]
     },
     "metadata": {},
     "output_type": "display_data"
    }
   ],
   "source": [
    "plt.hist(qual_new['diff'], 25)\n",
    "plt.show()"
   ]
  },
  {
   "cell_type": "code",
   "execution_count": null,
   "metadata": {
    "collapsed": true
   },
   "outputs": [],
   "source": []
  }
 ],
 "metadata": {
  "kernelspec": {
   "display_name": "Python 3",
   "language": "python",
   "name": "python3"
  },
  "language_info": {
   "codemirror_mode": {
    "name": "ipython",
    "version": 3
   },
   "file_extension": ".py",
   "mimetype": "text/x-python",
   "name": "python",
   "nbconvert_exporter": "python",
   "pygments_lexer": "ipython3",
   "version": "3.5.4"
  }
 },
 "nbformat": 4,
 "nbformat_minor": 2
}
